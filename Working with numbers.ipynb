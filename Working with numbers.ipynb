{
 "cells": [
  {
   "cell_type": "markdown",
   "metadata": {},
   "source": [
    "Python program to find HCF of Two Numbers"
   ]
  },
  {
   "cell_type": "code",
   "execution_count": 8,
   "metadata": {},
   "outputs": [
    {
     "name": "stdout",
     "output_type": "stream",
     "text": [
      "HCF of  12 and 14 is 2\n"
     ]
    }
   ],
   "source": [
    "a=int(input(\"Enter the num1: \"))\n",
    "b=int(input(\"Enter the num2: \"))\n",
    "for i in range(1,min(a,b)):\n",
    "    if a%i==0 and b%i==0:\n",
    "        hcf=i\n",
    "print(\"HCF of \",a,\"and\",b,\"is\",hcf)"
   ]
  },
  {
   "cell_type": "markdown",
   "metadata": {},
   "source": [
    "Lowest Common Multiple (LCM)"
   ]
  },
  {
   "cell_type": "code",
   "execution_count": 14,
   "metadata": {},
   "outputs": [
    {
     "name": "stdout",
     "output_type": "stream",
     "text": [
      "lcm of  12 and 14 is 84\n"
     ]
    }
   ],
   "source": [
    "a=int(input(\"Enter the num1: \"))\n",
    "b=int(input(\"Enter the num2: \"))\n",
    "for i in range(1,min(a,b)):\n",
    "    if a%i==0 and b%i==0:\n",
    "        hcf=i\n",
    "lcm=(a*b)//hcf\n",
    "print(\"lcm of \",a,\"and\",b,\"is\",lcm)"
   ]
  },
  {
   "cell_type": "markdown",
   "metadata": {},
   "source": [
    "GCD of Two Numbers in Python"
   ]
  },
  {
   "cell_type": "code",
   "execution_count": 16,
   "metadata": {},
   "outputs": [
    {
     "name": "stdout",
     "output_type": "stream",
     "text": [
      "HCF of  36 and 60 is 12\n"
     ]
    }
   ],
   "source": [
    "a=int(input(\"Enter the num1: \"))\n",
    "b=int(input(\"Enter the num2: \"))\n",
    "gcd=1\n",
    "for i in range(1,min(a,b)):\n",
    "    if a%i==0 and b%i==0:\n",
    "        gcd=i\n",
    "print(\"HCF of \",a,\"and\",b,\"is\",gcd)"
   ]
  },
  {
   "cell_type": "markdown",
   "metadata": {},
   "source": []
  }
 ],
 "metadata": {
  "kernelspec": {
   "display_name": "Python 3",
   "language": "python",
   "name": "python3"
  },
  "language_info": {
   "codemirror_mode": {
    "name": "ipython",
    "version": 3
   },
   "file_extension": ".py",
   "mimetype": "text/x-python",
   "name": "python",
   "nbconvert_exporter": "python",
   "pygments_lexer": "ipython3",
   "version": "3.13.0"
  }
 },
 "nbformat": 4,
 "nbformat_minor": 2
}
