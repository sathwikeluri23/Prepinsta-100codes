{
 "cells": [
  {
   "cell_type": "markdown",
   "metadata": {},
   "source": [
    "Python program to find HCF of Two Numbers"
   ]
  },
  {
   "cell_type": "code",
   "execution_count": 8,
   "metadata": {},
   "outputs": [
    {
     "name": "stdout",
     "output_type": "stream",
     "text": [
      "HCF of  12 and 14 is 2\n"
     ]
    }
   ],
   "source": [
    "a=int(input(\"Enter the num1: \"))\n",
    "b=int(input(\"Enter the num2: \"))\n",
    "for i in range(1,min(a,b)):\n",
    "    if a%i==0 and b%i==0:\n",
    "        hcf=i\n",
    "print(\"HCF of \",a,\"and\",b,\"is\",hcf)"
   ]
  },
  {
   "cell_type": "markdown",
   "metadata": {},
   "source": [
    "Lowest Common Multiple (LCM)"
   ]
  },
  {
   "cell_type": "code",
   "execution_count": 14,
   "metadata": {},
   "outputs": [
    {
     "name": "stdout",
     "output_type": "stream",
     "text": [
      "lcm of  12 and 14 is 84\n"
     ]
    }
   ],
   "source": [
    "a=int(input(\"Enter the num1: \"))\n",
    "b=int(input(\"Enter the num2: \"))\n",
    "for i in range(1,min(a,b)):\n",
    "    if a%i==0 and b%i==0:\n",
    "        hcf=i\n",
    "lcm=(a*b)//hcf\n",
    "print(\"lcm of \",a,\"and\",b,\"is\",lcm)"
   ]
  },
  {
   "cell_type": "markdown",
   "metadata": {},
   "source": [
    "GCD of Two Numbers in Python"
   ]
  },
  {
   "cell_type": "code",
   "execution_count": 16,
   "metadata": {},
   "outputs": [
    {
     "name": "stdout",
     "output_type": "stream",
     "text": [
      "HCF of  36 and 60 is 12\n"
     ]
    }
   ],
   "source": [
    "a=int(input(\"Enter the num1: \"))\n",
    "b=int(input(\"Enter the num2: \"))\n",
    "gcd=1\n",
    "for i in range(1,min(a,b)):\n",
    "    if a%i==0 and b%i==0:\n",
    "        gcd=i\n",
    "print(\"HCF of \",a,\"and\",b,\"is\",gcd)"
   ]
  },
  {
   "cell_type": "markdown",
   "metadata": {},
   "source": [
    "Python Program for Binary To Decimal Conversion"
   ]
  },
  {
   "cell_type": "code",
   "execution_count": 1,
   "metadata": {},
   "outputs": [
    {
     "name": "stdout",
     "output_type": "stream",
     "text": [
      "Binary Number is 10 \n",
      "Decimal Number is 2\n"
     ]
    }
   ],
   "source": [
    "num = 10\n",
    "binary_val = num\n",
    "decimal_val = 0\n",
    "base = 1\n",
    "\n",
    "while num > 0:\n",
    "    rem = num % 10\n",
    "    decimal_val = decimal_val + rem * base\n",
    "    num = num // 10\n",
    "    base = base * 2\n",
    "\n",
    "print(\"Binary Number is\",binary_val,\"\\nDecimal Number is\",decimal_val)\n"
   ]
  },
  {
   "cell_type": "markdown",
   "metadata": {},
   "source": [
    "Python program for octal to decimal conversion"
   ]
  },
  {
   "cell_type": "code",
   "execution_count": 1,
   "metadata": {},
   "outputs": [
    {
     "name": "stdout",
     "output_type": "stream",
     "text": [
      "The decimal value of 512 is 330\n"
     ]
    }
   ],
   "source": [
    "octal_num = 512\n",
    "\n",
    "decimal_value = int(str(octal_num), 8)\n",
    "\n",
    "print(\"The decimal value of\",octal_num, \"is\",decimal_value)"
   ]
  },
  {
   "cell_type": "markdown",
   "metadata": {},
   "source": [
    "Hexadecimal to Decimal Conversion in Python"
   ]
  },
  {
   "cell_type": "code",
   "execution_count": 1,
   "metadata": {},
   "outputs": [
    {
     "name": "stdout",
     "output_type": "stream",
     "text": [
      "decimal value of C9 is 201\n"
     ]
    }
   ],
   "source": [
    "def convert(hex):\n",
    "    l = len(hex)\n",
    "    decimal = 0\n",
    "    pos = 0\n",
    "    for i in range(l - 1, -1, -1):\n",
    "        if '0' <= hex[i] <= '9':\n",
    "            digit = int(hex[i])\n",
    "            decimal += digit * pow(16, pos)\n",
    "            pos += 1\n",
    "        elif 'A' <= hex[i] <= 'F':\n",
    "            digit = ord(hex[i]) - 55\n",
    "            decimal += digit * pow(16, pos)\n",
    "            pos += 1\n",
    "    return decimal\n",
    "hex = \"C9\"\n",
    "print(\"decimal value of\", hex, \"is\", convert(hex))"
   ]
  }
 ],
 "metadata": {
  "kernelspec": {
   "display_name": "Python 3",
   "language": "python",
   "name": "python3"
  },
  "language_info": {
   "codemirror_mode": {
    "name": "ipython",
    "version": 3
   },
   "file_extension": ".py",
   "mimetype": "text/x-python",
   "name": "python",
   "nbconvert_exporter": "python",
   "pygments_lexer": "ipython3",
   "version": "3.13.0"
  }
 },
 "nbformat": 4,
 "nbformat_minor": 2
}
