{
 "cells": [
  {
   "cell_type": "markdown",
   "metadata": {},
   "source": [
    "Find Largest element in an array using Python"
   ]
  },
  {
   "cell_type": "code",
   "execution_count": 18,
   "metadata": {},
   "outputs": [],
   "source": [
    "a=[1,12,36,45,105,100]"
   ]
  },
  {
   "cell_type": "code",
   "execution_count": 19,
   "metadata": {},
   "outputs": [
    {
     "name": "stdout",
     "output_type": "stream",
     "text": [
      "105 is largest element in array\n"
     ]
    }
   ],
   "source": [
    "b=a[0]\n",
    "for i in range(len(a)):\n",
    "    if a[i]>b:\n",
    "        b=a[i]\n",
    "print(b,\"is largest element in array\")"
   ]
  },
  {
   "cell_type": "code",
   "execution_count": 20,
   "metadata": {},
   "outputs": [
    {
     "name": "stdout",
     "output_type": "stream",
     "text": [
      "105\n",
      "105\n"
     ]
    }
   ],
   "source": [
    "a.sort()\n",
    "print(a[-1])\n",
    "print(max(a))"
   ]
  },
  {
   "cell_type": "markdown",
   "metadata": {},
   "source": [
    "Find Smallest Element in an Array"
   ]
  },
  {
   "cell_type": "code",
   "execution_count": 21,
   "metadata": {},
   "outputs": [
    {
     "name": "stdout",
     "output_type": "stream",
     "text": [
      "1 is smallest element in array\n"
     ]
    }
   ],
   "source": [
    "c=a[0]\n",
    "for i in range(len(a)):\n",
    "    if a[i] < c:\n",
    "        c=a[i]\n",
    "print(c,\"is smallest element in array\")"
   ]
  },
  {
   "cell_type": "code",
   "execution_count": 22,
   "metadata": {},
   "outputs": [
    {
     "name": "stdout",
     "output_type": "stream",
     "text": [
      "1\n",
      "1\n"
     ]
    }
   ],
   "source": [
    "a.sort\n",
    "print(a[0])\n",
    "print(min(a))"
   ]
  },
  {
   "cell_type": "markdown",
   "metadata": {},
   "source": [
    "Find the Smallest and largest element in an array"
   ]
  },
  {
   "cell_type": "code",
   "execution_count": 26,
   "metadata": {},
   "outputs": [
    {
     "name": "stdout",
     "output_type": "stream",
     "text": [
      "7 is smallest and 800 is largest\n"
     ]
    }
   ],
   "source": [
    "a=[10,7,800,78,89,75]\n",
    "min=a[0]\n",
    "max=a[0]\n",
    "for i in range(len(a)):\n",
    "    if a[i]>max:\n",
    "        max=a[i]\n",
    "    if a[i]<min:\n",
    "        min=a[i]\n",
    "print(min,\"is smallest and\",max,\"is largest\")"
   ]
  },
  {
   "cell_type": "markdown",
   "metadata": {},
   "source": [
    "Find Second Smallest Element in an Array using Python"
   ]
  },
  {
   "cell_type": "code",
   "execution_count": 36,
   "metadata": {},
   "outputs": [
    {
     "name": "stdout",
     "output_type": "stream",
     "text": [
      "[2, 3, 10, 36, 65]\n",
      "3 is the 2nd smalles in arr\n"
     ]
    }
   ],
   "source": [
    "size=int(input(\"enter the size of arr\"))\n",
    "a=[]\n",
    "for i in range(size):\n",
    "    element=int(input())\n",
    "    a.append(element)\n",
    "a.sort()\n",
    "print(a)\n",
    "print(a[1],\"is the 2nd smalles in arr\")\n"
   ]
  }
 ],
 "metadata": {
  "kernelspec": {
   "display_name": "Python 3",
   "language": "python",
   "name": "python3"
  },
  "language_info": {
   "codemirror_mode": {
    "name": "ipython",
    "version": 3
   },
   "file_extension": ".py",
   "mimetype": "text/x-python",
   "name": "python",
   "nbconvert_exporter": "python",
   "pygments_lexer": "ipython3",
   "version": "3.13.0"
  }
 },
 "nbformat": 4,
 "nbformat_minor": 2
}
